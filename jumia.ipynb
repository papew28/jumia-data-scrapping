{
 "cells": [
  {
   "cell_type": "code",
   "execution_count": 2,
   "metadata": {},
   "outputs": [],
   "source": [
    "from time import sleep\n",
    "import undetected_chromedriver as uc\n",
    "from selenium.webdriver.common.by import By\n",
    "import csv\n",
    "import os"
   ]
  },
  {
   "cell_type": "code",
   "execution_count": 3,
   "metadata": {},
   "outputs": [],
   "source": [
    "url=\"https://www.jumia.ma/catalog/?q=samsung+telephone\""
   ]
  },
  {
   "cell_type": "code",
   "execution_count": 4,
   "metadata": {},
   "outputs": [],
   "source": [
    "import requests\n",
    "def get_img(url_img,id):\n",
    "    r = requests.get(url_img)\n",
    "    if r.status_code == 200:\n",
    "        img_container=\"image\"+str(id)+\".png\"\n",
    "        with open(img_container, 'wb') as f:\n",
    "            f.write(r.content)\n",
    "            os.chdir(\"c:\\\\Users\\\\papew\\\\OneDrive\\\\Bureau\\\\pyth\")"
   ]
  },
  {
   "cell_type": "code",
   "execution_count": 5,
   "metadata": {},
   "outputs": [],
   "source": [
    "def save(elements,page=1):\n",
    "   os.mkdir(os.path.join(os.getcwd(),\"page\"+str(page)))\n",
    "   id=1\n",
    "   with open(\"samsungdata.csv\",\"a\",newline='') as data:\n",
    "    writer=csv.writer(data)\n",
    "    for element in elements:\n",
    "        livraison=\"payante\"\n",
    "        line=[]\n",
    "        imgs=element.find_elements(By.XPATH,'.//div[@class=\"img-c\"]/img')\n",
    "        if (len(imgs)==2):\n",
    "            livraison=\"gratuite\"\n",
    "        imgurl=imgs[0].get_attribute('data-src')\n",
    "        info=element.find_element(By.XPATH,'.//div[@class=\"info\"]')\n",
    "        nom=info.find_element(By.CLASS_NAME,\"name\").text.replace('\"',\"\")\n",
    "        prix=info.find_element(By.CLASS_NAME,\"prc\").text\n",
    "        line.append(nom)\n",
    "        line.append(prix)\n",
    "        os.chdir(os.path.join(os.getcwd(),\"page\"+str(page)))\n",
    "        get_img(imgurl,id)\n",
    "        id=id+1\n",
    "        try:\n",
    "          stars=info.find_element(By.XPATH,'.//div[@class=\"rev\"]/div[@class=\"stars _s\"]').text.replace(\"out of 5\",\"\")\n",
    "          line.append(stars)\n",
    "        except Exception as e:\n",
    "          line.append(\"Nan\")\n",
    "        finally:\n",
    "             line.append(livraison)\n",
    "             writer.writerow(line)\n",
    "      \n"
   ]
  },
  {
   "cell_type": "code",
   "execution_count": 6,
   "metadata": {},
   "outputs": [],
   "source": [
    "options = uc.ChromeOptions()\n",
    "options.add_argument('--disable-blink-features=AutomationControlled')\n",
    "driver = uc.Chrome(options=options)\n",
    "driver.get(url)\n",
    "\n",
    "sleep(10)\n",
    "\n",
    "card=driver.find_element(By.CSS_SELECTOR,\"section.card.-fh\")\n",
    "elements=card.find_elements(By.TAG_NAME,\"article\")\n",
    "save(elements)"
   ]
  },
  {
   "cell_type": "code",
   "execution_count": 7,
   "metadata": {},
   "outputs": [],
   "source": [
    "def find_next():\n",
    "        pages=driver.find_element(By.CSS_SELECTOR,\"div.pg-w.-ptm.-pbxl\")\n",
    "        pages=pages.find_elements(By.TAG_NAME,\"a\")\n",
    "        suivant=None\n",
    "        for page in pages:\n",
    "                try:\n",
    "                    if page.get_attribute(\"aria-label\")==\"Page suivante\":\n",
    "                          suivant=page.get_attribute(\"href\")\n",
    "                except Exception as StaleElementReferenceException:\n",
    "                     pass\n",
    "        return suivant"
   ]
  },
  {
   "cell_type": "code",
   "execution_count": 8,
   "metadata": {},
   "outputs": [],
   "source": [
    "def scrap(url):\n",
    "    driver.get(url)\n",
    "    sleep(10)\n",
    "    card=driver.find_element(By.CSS_SELECTOR,\"section.card.-fh\")\n",
    "    elements=card.find_elements(By.TAG_NAME,\"article\")\n",
    "    pages=driver.find_element(By.CSS_SELECTOR,\"div.pg-w.-ptm.-pbxl\")\n",
    "    page=pages.find_element(By.CSS_SELECTOR,\"a.pg._act\").text\n",
    "    save(elements,page)\n",
    "    "
   ]
  },
  {
   "cell_type": "code",
   "execution_count": 9,
   "metadata": {},
   "outputs": [],
   "source": [
    "suivant=find_next()\n",
    "while suivant is not None:\n",
    "    scrap(suivant)\n",
    "    suivant=find_next()"
   ]
  },
  {
   "cell_type": "code",
   "execution_count": 10,
   "metadata": {},
   "outputs": [],
   "source": [
    "driver.quit()"
   ]
  }
 ],
 "metadata": {
  "kernelspec": {
   "display_name": "Python 3",
   "language": "python",
   "name": "python3"
  },
  "language_info": {
   "codemirror_mode": {
    "name": "ipython",
    "version": 3
   },
   "file_extension": ".py",
   "mimetype": "text/x-python",
   "name": "python",
   "nbconvert_exporter": "python",
   "pygments_lexer": "ipython3",
   "version": "3.11.8"
  }
 },
 "nbformat": 4,
 "nbformat_minor": 2
}
